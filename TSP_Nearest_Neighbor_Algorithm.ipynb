{
  "nbformat": 4,
  "nbformat_minor": 0,
  "metadata": {
    "colab": {
      "provenance": []
    },
    "kernelspec": {
      "name": "python3",
      "display_name": "Python 3"
    },
    "language_info": {
      "name": "python"
    }
  },
  "cells": [
    {
      "cell_type": "markdown",
      "source": [
        "# Solving TSP problem using Nearest_Neighbor Algorithm\n",
        "The goal is to find the shortest route that visits each city exactly once and returns to the starting point."
      ],
      "metadata": {
        "id": "njVxHqQP9LTu"
      }
    },
    {
      "cell_type": "markdown",
      "source": [
        "# import needed libraries"
      ],
      "metadata": {
        "id": "7SjkGm-N9R_q"
      }
    },
    {
      "cell_type": "code",
      "source": [
        "import random  # Importing the random module for generating random numbers or making random choices\n",
        "import pandas as pd  # Importing pandas library and aliasing it as pd for data manipulation and analysis\n",
        "import numpy as np  # Importing numpy library and aliasing it as np for numerical computing and array operations\n",
        "import math  # Importing math module for mathematical functions and constants\n"
      ],
      "metadata": {
        "id": "43wcgH919VfT"
      },
      "execution_count": 14,
      "outputs": []
    },
    {
      "cell_type": "markdown",
      "source": [
        "# Read Data\n",
        "dataset_link: https://drive.google.com/file/d/16-TTRrrDjE1Lbu30xfM67nJguzvWgyUA/view?usp=sharing\n",
        "\n",
        "the dataset contains 15 points, and each point has X-Y coordinates."
      ],
      "metadata": {
        "id": "3v1KQTV-_ZrA"
      }
    },
    {
      "cell_type": "code",
      "source": [
        "class City:\n",
        "    all_cities = []  # Class variable to store all city instances\n",
        "\n",
        "    def __init__(self, name, x, y):\n",
        "        \"\"\"\n",
        "        Initialize a City object.\n",
        "\n",
        "        Args:\n",
        "            name (str): The name of the city.\n",
        "            x (float): The x-coordinate of the city.\n",
        "            y (float): The y-coordinate of the city.\n",
        "        \"\"\"\n",
        "        self.name = name\n",
        "        self.x = float(x)\n",
        "        self.y = float(y)\n",
        "\n",
        "        City.all_cities.append(self)  # Add the city to the list of all cities\n",
        "\n",
        "    def calculate_distance(self, city):\n",
        "        \"\"\"\n",
        "        Calculate the distance between this city and another city.\n",
        "\n",
        "        Args:\n",
        "            city (City): The other city to calculate the distance to.\n",
        "\n",
        "        Returns:\n",
        "            float: The distance between the two cities.\n",
        "        \"\"\"\n",
        "        p = [self.x, self.y]\n",
        "        q = [city.x, city.y]\n",
        "        return math.dist(p, q)  # Calculate and return the Euclidean distance\n",
        "\n",
        "    @classmethod\n",
        "    def get_random_city(cls):\n",
        "        \"\"\"\n",
        "        Get a random city from the list of all cities.\n",
        "\n",
        "        Returns:\n",
        "            City: A randomly selected city instance.\n",
        "        \"\"\"\n",
        "        return random.choice(cls.all_cities)  # Choose a random city from all_cities\n",
        "\n",
        "    def __str__(self):\n",
        "        \"\"\"\n",
        "        Return a string representation of the City object.\n",
        "\n",
        "        Returns:\n",
        "            str: String representation of the city.\n",
        "        \"\"\"\n",
        "        return f\"City: {self.name}, X: {self.x}, Y: {self.y}\"\n"
      ],
      "metadata": {
        "id": "BwVt2WMG_JG9"
      },
      "execution_count": 15,
      "outputs": []
    },
    {
      "cell_type": "code",
      "source": [
        "def get_all_cities(file_path):\n",
        "    \"\"\"\n",
        "    Read city data from a CSV file and create City objects for each entry.\n",
        "\n",
        "    Args:\n",
        "        file_path (str): The path to the CSV file containing city data.\n",
        "\n",
        "    Returns:\n",
        "        list: A list of City objects created from the CSV data.\n",
        "    \"\"\"\n",
        "    df = pd.read_csv(file_path)  # Read the CSV file into a DataFrame\n",
        "    for i in range(df.shape[0]):\n",
        "        # Create a City object for each row in the DataFrame\n",
        "        City(df.iloc[i]['City'], df.iloc[i]['x'], df.iloc[i]['y'])\n",
        "\n",
        "    return City.all_cities  # Return the list of all created City objects\n"
      ],
      "metadata": {
        "id": "uTgkI9NL_e9N"
      },
      "execution_count": 16,
      "outputs": []
    },
    {
      "cell_type": "code",
      "source": [
        "from google.colab import drive\n",
        "drive.mount('/content/drive')"
      ],
      "metadata": {
        "colab": {
          "base_uri": "https://localhost:8080/"
        },
        "id": "zt1Mry09_1LU",
        "outputId": "a02a1c87-f9d4-4a8e-91ab-c60936921da0"
      },
      "execution_count": 17,
      "outputs": [
        {
          "output_type": "stream",
          "name": "stdout",
          "text": [
            "Drive already mounted at /content/drive; to attempt to forcibly remount, call drive.mount(\"/content/drive\", force_remount=True).\n"
          ]
        }
      ]
    },
    {
      "cell_type": "code",
      "source": [
        "# Load all cities from the CSV file and print their details\n",
        "data_path = '/content/drive/MyDrive/TSP_dataset.csv'  # Path to the CSV file containing city data\n",
        "all_cities = get_all_cities(data_path)  # Get all cities from the CSV file\n",
        "\n",
        "# Print the details of each city\n",
        "print(\"all_cities\")\n",
        "for city in all_cities:\n",
        "    print(city)\n",
        "print(\"____________________________________________\")"
      ],
      "metadata": {
        "colab": {
          "base_uri": "https://localhost:8080/"
        },
        "id": "IEvVu4Ho_mT2",
        "outputId": "09835519-4f84-4cb1-9f99-3cfe1c9750bd"
      },
      "execution_count": 18,
      "outputs": [
        {
          "output_type": "stream",
          "name": "stdout",
          "text": [
            "all_cities\n",
            "City: 1.0, X: 5.5e-08, Y: 9.86e-09\n",
            "City: 2.0, X: -28.8733, Y: -7.98e-08\n",
            "City: 3.0, X: -79.2916, Y: -21.4033\n",
            "City: 4.0, X: -14.6577, Y: -43.3896\n",
            "City: 5.0, X: -64.7473, Y: 21.8982\n",
            "City: 6.0, X: -29.0585, Y: -43.2167\n",
            "City: 7.0, X: -72.0785, Y: 0.181581\n",
            "City: 8.0, X: -36.0366, Y: -21.6135\n",
            "City: 9.0, X: -50.4808, Y: 7.37447\n",
            "City: 10.0, X: -50.5859, Y: -21.5882\n",
            "City: 11.0, X: -0.135819, Y: -28.7293\n",
            "City: 12.0, X: -65.0866, Y: -36.0625\n",
            "City: 13.0, X: -21.4983, Y: 7.31942\n",
            "City: 14.0, X: -57.5687, Y: -43.2506\n",
            "City: 15.0, X: -43.07, Y: 14.5548\n",
            "____________________________________________\n"
          ]
        }
      ]
    },
    {
      "cell_type": "code",
      "source": [
        "# Select a random city as the start point\n",
        "start = City.get_random_city()\n",
        "print(\"Start City: \")\n",
        "print(start)\n",
        "print(\"____________________________________________\")\n",
        "\n",
        "visited = []  # List to track visited cities\n",
        "total_distance = 0  # Total distance traveled\n",
        "now = all_cities[-1]  # Start from the last city initially\n",
        "\n",
        "while True:\n",
        "    # Calculate distances from the current city to all other cities\n",
        "    all_distances = []\n",
        "    for city in all_cities:\n",
        "        distance = now.calculate_distance(city)\n",
        "        all_distances.append(distance)\n",
        "\n",
        "    # Find the nearest city based on calculated distances\n",
        "    nearest_city = all_cities[np.argmin(np.array(all_distances))]\n",
        "    distance = np.min(np.array(all_distances))\n",
        "    all_cities.remove(nearest_city)\n",
        "\n",
        "    # Check if the nearest city has been visited\n",
        "    if nearest_city in visited:\n",
        "        continue\n",
        "    else:\n",
        "        # Add the nearest city to the visited list and update the total distance\n",
        "        visited.append(nearest_city)\n",
        "        total_distance += distance\n",
        "        now = nearest_city\n",
        "\n",
        "    # Check if all cities have been visited\n",
        "    if len(all_cities) == 0:\n",
        "        break\n",
        "\n",
        "# Print the visited cities and the total distance traveled\n",
        "for city in visited:\n",
        "    print(city)\n",
        "print(total_distance + start.calculate_distance(visited[-1]))  # Total distance including return to start"
      ],
      "metadata": {
        "colab": {
          "base_uri": "https://localhost:8080/"
        },
        "id": "hK06pmCL_tEM",
        "outputId": "e5b30474-273d-4857-d032-ccdcf2840632"
      },
      "execution_count": 19,
      "outputs": [
        {
          "output_type": "stream",
          "name": "stdout",
          "text": [
            "Start City: \n",
            "City: 15.0, X: -43.07, Y: 14.5548\n",
            "____________________________________________\n",
            "City: 15.0, X: -43.07, Y: 14.5548\n",
            "City: 9.0, X: -50.4808, Y: 7.37447\n",
            "City: 5.0, X: -64.7473, Y: 21.8982\n",
            "City: 7.0, X: -72.0785, Y: 0.181581\n",
            "City: 3.0, X: -79.2916, Y: -21.4033\n",
            "City: 12.0, X: -65.0866, Y: -36.0625\n",
            "City: 14.0, X: -57.5687, Y: -43.2506\n",
            "City: 10.0, X: -50.5859, Y: -21.5882\n",
            "City: 8.0, X: -36.0366, Y: -21.6135\n",
            "City: 6.0, X: -29.0585, Y: -43.2167\n",
            "City: 4.0, X: -14.6577, Y: -43.3896\n",
            "City: 11.0, X: -0.135819, Y: -28.7293\n",
            "City: 1.0, X: 5.5e-08, Y: 9.86e-09\n",
            "City: 13.0, X: -21.4983, Y: 7.31942\n",
            "City: 2.0, X: -28.8733, Y: -7.98e-08\n",
            "284.3810904080332\n"
          ]
        }
      ]
    },
    {
      "cell_type": "code",
      "source": [],
      "metadata": {
        "id": "KFjRyU0bAO8v"
      },
      "execution_count": 19,
      "outputs": []
    }
  ]
}